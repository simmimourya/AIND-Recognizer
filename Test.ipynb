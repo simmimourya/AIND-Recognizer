{
 "cells": [
  {
   "cell_type": "code",
   "execution_count": 12,
   "metadata": {
    "collapsed": false
   },
   "outputs": [
    {
     "name": "stdout",
     "output_type": "stream",
     "text": [
      "KFold(n_splits=3, random_state=None, shuffle=False)\n",
      "TRAIN: [2 3] TEST: [0 1]\n",
      "[[9 8]\n",
      " [7 0]]\n",
      "kk\n",
      "[[1 2]\n",
      " [3 4]]\n",
      "[3 4]\n",
      "yy\n",
      "[1 2]\n",
      "TRAIN: [0 1 3] TEST: [2]\n",
      "[[1 2]\n",
      " [3 4]\n",
      " [7 0]]\n",
      "kk\n",
      "[[9 8]]\n",
      "[1 2 4]\n",
      "yy\n",
      "[3]\n",
      "TRAIN: [0 1 2] TEST: [3]\n",
      "[[1 2]\n",
      " [3 4]\n",
      " [9 8]]\n",
      "kk\n",
      "[[7 0]]\n",
      "[1 2 3]\n",
      "yy\n",
      "[4]\n"
     ]
    }
   ],
   "source": [
    "from sklearn.model_selection import KFold\n",
    "import numpy as np\n",
    "X = np.array([[1, 2], [3, 4], [9, 8], [7, 0]])\n",
    "y = np.array([1, 2, 3, 4])\n",
    "kf = KFold(n_splits=3)\n",
    "kf.get_n_splits(X)\n",
    "\n",
    "print(kf)\n",
    "# print(kf.split)\n",
    "\n",
    "for train_index, test_index in kf.split(X):\n",
    "    print(\"TRAIN:\", train_index, \"TEST:\", test_index)\n",
    "    X_train, X_test = X[train_index], X[test_index]\n",
    "    print(X_train) \n",
    "    print('kk')\n",
    "    print(X_test)\n",
    "    y_train, y_test = y[train_index], y[test_index]\n",
    "    print(y_train) \n",
    "    print('yy')\n",
    "    print(y_test)\n",
    "\n"
   ]
  },
  {
   "cell_type": "code",
   "execution_count": null,
   "metadata": {
    "collapsed": true
   },
   "outputs": [],
   "source": []
  }
 ],
 "metadata": {
  "kernelspec": {
   "display_name": "Python 3",
   "language": "python",
   "name": "python3"
  },
  "language_info": {
   "codemirror_mode": {
    "name": "ipython",
    "version": 3
   },
   "file_extension": ".py",
   "mimetype": "text/x-python",
   "name": "python",
   "nbconvert_exporter": "python",
   "pygments_lexer": "ipython3",
   "version": "3.6.0"
  }
 },
 "nbformat": 4,
 "nbformat_minor": 2
}
